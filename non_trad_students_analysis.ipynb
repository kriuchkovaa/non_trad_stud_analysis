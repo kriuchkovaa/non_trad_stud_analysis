{
 "cells": [
  {
   "cell_type": "code",
   "execution_count": 1,
   "metadata": {},
   "outputs": [],
   "source": [
    "# Importing required packages \n",
    "import pandas as pd\n",
    "import numpy as np"
   ]
  },
  {
   "cell_type": "code",
   "execution_count": 2,
   "metadata": {},
   "outputs": [],
   "source": [
    "# Importing glossaries for replacing numeric labels in a dataframe with their string counterparts \n",
    "import dictionaries as pums_dict"
   ]
  },
  {
   "cell_type": "code",
   "execution_count": 3,
   "metadata": {},
   "outputs": [],
   "source": [
    "# create a list with preferred column names \n",
    "pref_names = ['Data Year', 'State', 'Age', 'Citizenship', 'Marital Status', 'Military Status', 'Work availability', 'Laid Off', 'Looking for Work', 'School Enrollment','Grade Level Attending', 'Educational Attainment', 'Sex', 'First Degree', 'Second Degree', 'Occupation', 'Children Age', 'Total Income']\n",
    "\n",
    "# create a list with columns to be selected from the dataset\n",
    "select_cols = ['ST', 'AGEP', 'CIT', 'MAR', 'MIL', 'NWAV',  'NWLA', 'NWLK', 'SCH', 'SCHG', 'SCHL', 'SEX', 'FOD1P', 'FOD2P', 'OCCP', 'PAOC', 'PINCP']\n"
   ]
  },
  {
   "cell_type": "code",
   "execution_count": 4,
   "metadata": {},
   "outputs": [],
   "source": [
    "# open the CSV file with columns of choice \n",
    "wa_data_20 = pd.read_csv('wa_2020_pums.csv', usecols = select_cols)\n",
    "id_data_20 = pd.read_csv('id_2020_pums.csv', usecols = select_cols)\n",
    "or_data_20 = pd.read_csv('or_2020_pums.csv', usecols = select_cols)"
   ]
  },
  {
   "cell_type": "code",
   "execution_count": 5,
   "metadata": {},
   "outputs": [],
   "source": [
    "# concatenate into a single dataframe \n",
    "pums_2020 = pd.concat([wa_data_20, id_data_20, or_data_20], axis = 0)"
   ]
  },
  {
   "cell_type": "code",
   "execution_count": 6,
   "metadata": {},
   "outputs": [],
   "source": [
    "# add new column at the beginning of the dataframe to differentiate between 2019 and 2020 data \n",
    "pums_2020.insert(0, 'PUMS_Year', 2020)"
   ]
  },
  {
   "cell_type": "code",
   "execution_count": 7,
   "metadata": {},
   "outputs": [],
   "source": [
    "# Multiplying total income by an adjustment factor set for 2020; rounded to the whole number since we later will be changing to integer type \n",
    "pums_2020['PINCP'] = round(1.006149 * pums_2020['PINCP'], 0)"
   ]
  },
  {
   "cell_type": "code",
   "execution_count": 8,
   "metadata": {},
   "outputs": [],
   "source": [
    "# open the CSV file with columns of choice \n",
    "wa_data_19 = pd.read_csv('wa_2019_pums.csv', usecols = select_cols)\n",
    "id_data_19 = pd.read_csv('id_2019_pums.csv', usecols = select_cols)\n",
    "or_data_19 = pd.read_csv('or_2019_pums.csv', usecols = select_cols)"
   ]
  },
  {
   "cell_type": "code",
   "execution_count": 9,
   "metadata": {},
   "outputs": [],
   "source": [
    "# concatenate into a single dataframe \n",
    "pums_2019 = pd.concat([wa_data_19, id_data_19, or_data_19], axis = 0)"
   ]
  },
  {
   "cell_type": "code",
   "execution_count": 10,
   "metadata": {},
   "outputs": [],
   "source": [
    "# add new column at the beginning of the dataframe to differentiate between 2019 and 2020 data \n",
    "pums_2019.insert(0, 'PUMS_Year', 2019)"
   ]
  },
  {
   "cell_type": "code",
   "execution_count": 11,
   "metadata": {},
   "outputs": [],
   "source": [
    "# Multiplying total income by an adjustment factor set for 2020; rounded to the whole number since we later will be changing to integer type \n",
    "pums_2019['PINCP'] = round(1.010145 * pums_2019['PINCP'], 0)"
   ]
  },
  {
   "cell_type": "code",
   "execution_count": 12,
   "metadata": {},
   "outputs": [],
   "source": [
    "# combine 2019 and 2020 PUMS data into a single dataset\n",
    "pums_data = pd.concat([pums_2019, pums_2020], axis = 0)"
   ]
  },
  {
   "cell_type": "code",
   "execution_count": 13,
   "metadata": {},
   "outputs": [],
   "source": [
    "# set new headers \n",
    "pums_data.set_axis(pref_names, axis = 1, inplace=True)"
   ]
  },
  {
   "cell_type": "code",
   "execution_count": 14,
   "metadata": {},
   "outputs": [],
   "source": [
    "# switch NA values to 0 (need int instead of float for the dictionaries to work, cannot apply astype() without achieving uniformity of data types in all columns)\n",
    "pums_data = pums_data.fillna(0)"
   ]
  },
  {
   "cell_type": "code",
   "execution_count": 15,
   "metadata": {},
   "outputs": [],
   "source": [
    "# change values in all columns from float to int\n",
    "pums_data = pums_data.astype(int)"
   ]
  },
  {
   "cell_type": "code",
   "execution_count": 16,
   "metadata": {},
   "outputs": [],
   "source": [
    "# substitute numeric values in columns with labels from the imported dictionaries \n",
    "pums_data = pums_data.replace({'State': pums_dict.states, 'Citizenship': pums_dict.citizenship, 'Marital Status': pums_dict.marital_status, 'Military Status': pums_dict.military_service, \n",
    "            'Work availability': pums_dict.work_available, 'Laid Off': pums_dict.laid_off, 'Looking for Work': pums_dict.work_available, 'School Enrollment': pums_dict.enroll_status,\n",
    "            'Grade Level Attending': pums_dict.grade_level, 'Educational Attainment': pums_dict.ed_attainment, 'Sex': pums_dict.sex, 'First Degree': pums_dict.education_field, 'Second Degree': pums_dict.education_field,\n",
    "            'Children': pums_dict.children, 'Occupation': pums_dict.occupation, 'Children Age': pums_dict.children_age})"
   ]
  },
  {
   "cell_type": "code",
   "execution_count": 17,
   "metadata": {},
   "outputs": [],
   "source": [
    "# reindex the columns to improve logic in data representation\n",
    "new_order = ['Data Year', 'State', 'Age', 'Sex', 'Citizenship','School Enrollment','Grade Level Attending', 'Educational Attainment', 'First Degree', 'Second Degree', 'Military Status', 'Work availability', 'Laid Off', 'Looking for Work', 'Occupation', 'Marital Status', 'Children Age', 'Total Income']\n",
    "pums_data = pums_data.reindex(columns = new_order)\n"
   ]
  },
  {
   "cell_type": "code",
   "execution_count": 18,
   "metadata": {},
   "outputs": [],
   "source": [
    "# change first index from 0 to 1 \n",
    "pums_data.index = np.arange(1, len(pums_data) + 1)"
   ]
  },
  {
   "cell_type": "code",
   "execution_count": 28,
   "metadata": {},
   "outputs": [
    {
     "data": {
      "text/html": [
       "<div>\n",
       "<style scoped>\n",
       "    .dataframe tbody tr th:only-of-type {\n",
       "        vertical-align: middle;\n",
       "    }\n",
       "\n",
       "    .dataframe tbody tr th {\n",
       "        vertical-align: top;\n",
       "    }\n",
       "\n",
       "    .dataframe thead th {\n",
       "        text-align: right;\n",
       "    }\n",
       "</style>\n",
       "<table border=\"1\" class=\"dataframe\">\n",
       "  <thead>\n",
       "    <tr style=\"text-align: right;\">\n",
       "      <th></th>\n",
       "      <th>na percentage</th>\n",
       "    </tr>\n",
       "    <tr>\n",
       "      <th>Column</th>\n",
       "      <th></th>\n",
       "    </tr>\n",
       "  </thead>\n",
       "  <tbody>\n",
       "    <tr>\n",
       "      <th>Second Degree</th>\n",
       "      <td>96.517224</td>\n",
       "    </tr>\n",
       "    <tr>\n",
       "      <th>Grade Level Attending</th>\n",
       "      <td>78.144789</td>\n",
       "    </tr>\n",
       "    <tr>\n",
       "      <th>First Degree</th>\n",
       "      <td>72.813371</td>\n",
       "    </tr>\n",
       "    <tr>\n",
       "      <th>Children Age</th>\n",
       "      <td>60.173268</td>\n",
       "    </tr>\n",
       "    <tr>\n",
       "      <th>Occupation</th>\n",
       "      <td>39.944276</td>\n",
       "    </tr>\n",
       "  </tbody>\n",
       "</table>\n",
       "</div>"
      ],
      "text/plain": [
       "                       na percentage\n",
       "Column                              \n",
       "Second Degree              96.517224\n",
       "Grade Level Attending      78.144789\n",
       "First Degree               72.813371\n",
       "Children Age               60.173268\n",
       "Occupation                 39.944276"
      ]
     },
     "execution_count": 28,
     "metadata": {},
     "output_type": "execute_result"
    }
   ],
   "source": [
    "# check percentage for missing values in each column and create a dataframe to visualize this info\n",
    "na_percentage = pums_data.replace(0, np.NaN).isnull().sum() * 100 / len(pums_data)\n",
    "na_report = pd.DataFrame({'na percentage': na_percentage})\n",
    "na_report.index.name = 'Column'\n",
    "\n",
    "# sort values in a descending order and print top 5 with head()\n",
    "na_report.sort_values('na percentage', ascending = False, inplace = True)\n",
    "na_report.head()"
   ]
  },
  {
   "cell_type": "code",
   "execution_count": 19,
   "metadata": {},
   "outputs": [],
   "source": [
    "# create a DataFrame which contains all records for current students whose age is 24 and up (segregate by year)\n",
    "nontrad_stud_2019 = pums_data.loc[(pums_data['Age'] >= 24) & (pums_data['Grade Level Attending'].str.contains('graduate', case = False)) & (pums_data['Data Year'] == 2019)]\n",
    "nontrad_stud_2020 = pums_data.loc[(pums_data['Age'] >= 24) & (pums_data['Grade Level Attending'].str.contains('graduate', case = False)) & (pums_data['Data Year'] == 2020)]"
   ]
  },
  {
   "cell_type": "code",
   "execution_count": 20,
   "metadata": {},
   "outputs": [],
   "source": [
    "# reindex nontrad_students \n",
    "nontrad_stud_2019.index = np.arange(1, len(nontrad_stud_2019) + 1)\n",
    "nontrad_stud_2020.index = np.arange(1, len(nontrad_stud_2020) + 1)"
   ]
  },
  {
   "cell_type": "code",
   "execution_count": 25,
   "metadata": {},
   "outputs": [],
   "source": [
    "# save resulting datasets to CSV file (for further analysis in PowerBI)\n",
    "nontrad_stud_2019.to_csv(\"nontrad_stud_2019.csv\")\n",
    "nontrad_stud_2020.to_csv(\"nontrad_stud_2020.csv\")"
   ]
  },
  {
   "cell_type": "code",
   "execution_count": 86,
   "metadata": {},
   "outputs": [
    {
     "name": "stdout",
     "output_type": "stream",
     "text": [
      "Percentage of nontrad students reported as laid off or looking for work:\n",
      "\n",
      "\t- 2019 data: 5.93%\n",
      "\t- 2020 data: 7.21%\n"
     ]
    }
   ],
   "source": [
    "# Check percentage of nontrad students reported as laid off or looking for work in 2019 vs 2020 \n",
    "\n",
    "def work_search(data):\n",
    "    work_search = data.loc[(data['Laid Off'] == 'Yes') | (data['Looking for Work'] == 'Yes')]\n",
    "    try:\n",
    "        percentage_work_search = round(len(work_search) * 100 / len(data), 2)\n",
    "        return percentage_work_search\n",
    "    except ZeroDivisionError:\n",
    "        print(\"No records\")\n",
    "\n",
    "print(\"Percentage of nontrad students reported as laid off or looking for work:\\n\")\n",
    "print(f\"\\t- 2019 data: {work_search(nontrad_stud_2019)}%\")\n",
    "print(f\"\\t- 2020 data: {work_search(nontrad_stud_2020)}%\")\n"
   ]
  },
  {
   "cell_type": "code",
   "execution_count": 87,
   "metadata": {},
   "outputs": [
    {
     "name": "stdout",
     "output_type": "stream",
     "text": [
      "Percentage of past or current military listed as students:\n",
      "\n",
      "\t- 2019 data: 12.01%\n",
      "\t- 2020 data: 10.31%\n"
     ]
    }
   ],
   "source": [
    "# Check percentage of past or current military listed as students in 2019 vs 2020\n",
    "\n",
    "def roti_stud(data):\n",
    "    roti_stud = data.loc[(data['Military Status'].str.contains('active duty', case = False))]\n",
    "    try:\n",
    "        percentage_roti = round(len(roti_stud) * 100 / len(data), 2)\n",
    "        return percentage_roti\n",
    "    except ZeroDivisionError:\n",
    "        print(\"No records\")\n",
    "\n",
    "print(\"Percentage of past or current military listed as students:\\n\")\n",
    "print(f\"\\t- 2019 data: {roti_stud(nontrad_stud_2019)}%\")\n",
    "print(f\"\\t- 2020 data: {roti_stud(nontrad_stud_2020)}%\")\n"
   ]
  },
  {
   "cell_type": "code",
   "execution_count": 80,
   "metadata": {},
   "outputs": [
    {
     "data": {
      "text/html": [
       "<div>\n",
       "<style scoped>\n",
       "    .dataframe tbody tr th:only-of-type {\n",
       "        vertical-align: middle;\n",
       "    }\n",
       "\n",
       "    .dataframe tbody tr th {\n",
       "        vertical-align: top;\n",
       "    }\n",
       "\n",
       "    .dataframe thead th {\n",
       "        text-align: right;\n",
       "    }\n",
       "</style>\n",
       "<table border=\"1\" class=\"dataframe\">\n",
       "  <thead>\n",
       "    <tr style=\"text-align: right;\">\n",
       "      <th></th>\n",
       "      <th></th>\n",
       "      <th></th>\n",
       "      <th>Income</th>\n",
       "    </tr>\n",
       "    <tr>\n",
       "      <th>State</th>\n",
       "      <th>Sex</th>\n",
       "      <th>Income Category</th>\n",
       "      <th></th>\n",
       "    </tr>\n",
       "  </thead>\n",
       "  <tbody>\n",
       "    <tr>\n",
       "      <th rowspan=\"6\" valign=\"top\">ID</th>\n",
       "      <th rowspan=\"3\" valign=\"top\">Female</th>\n",
       "      <th>low</th>\n",
       "      <td>19193.0</td>\n",
       "    </tr>\n",
       "    <tr>\n",
       "      <th>middle</th>\n",
       "      <td>60609.0</td>\n",
       "    </tr>\n",
       "    <tr>\n",
       "      <th>upper</th>\n",
       "      <td>316175.5</td>\n",
       "    </tr>\n",
       "    <tr>\n",
       "      <th rowspan=\"3\" valign=\"top\">Male</th>\n",
       "      <th>low</th>\n",
       "      <td>20405.0</td>\n",
       "    </tr>\n",
       "    <tr>\n",
       "      <th>middle</th>\n",
       "      <td>74296.5</td>\n",
       "    </tr>\n",
       "    <tr>\n",
       "      <th>upper</th>\n",
       "      <td>313953.0</td>\n",
       "    </tr>\n",
       "    <tr>\n",
       "      <th rowspan=\"6\" valign=\"top\">OR</th>\n",
       "      <th rowspan=\"3\" valign=\"top\">Female</th>\n",
       "      <th>low</th>\n",
       "      <td>20203.0</td>\n",
       "    </tr>\n",
       "    <tr>\n",
       "      <th>middle</th>\n",
       "      <td>68690.0</td>\n",
       "    </tr>\n",
       "    <tr>\n",
       "      <th>upper</th>\n",
       "      <td>181826.0</td>\n",
       "    </tr>\n",
       "    <tr>\n",
       "      <th rowspan=\"3\" valign=\"top\">Male</th>\n",
       "      <th>low</th>\n",
       "      <td>21213.0</td>\n",
       "    </tr>\n",
       "    <tr>\n",
       "      <th>middle</th>\n",
       "      <td>78791.0</td>\n",
       "    </tr>\n",
       "    <tr>\n",
       "      <th>upper</th>\n",
       "      <td>172735.0</td>\n",
       "    </tr>\n",
       "    <tr>\n",
       "      <th rowspan=\"6\" valign=\"top\">WA</th>\n",
       "      <th rowspan=\"3\" valign=\"top\">Female</th>\n",
       "      <th>low</th>\n",
       "      <td>21819.0</td>\n",
       "    </tr>\n",
       "    <tr>\n",
       "      <th>middle</th>\n",
       "      <td>70710.0</td>\n",
       "    </tr>\n",
       "    <tr>\n",
       "      <th>upper</th>\n",
       "      <td>222232.0</td>\n",
       "    </tr>\n",
       "    <tr>\n",
       "      <th rowspan=\"3\" valign=\"top\">Male</th>\n",
       "      <th>low</th>\n",
       "      <td>24243.0</td>\n",
       "    </tr>\n",
       "    <tr>\n",
       "      <th>middle</th>\n",
       "      <td>77801.5</td>\n",
       "    </tr>\n",
       "    <tr>\n",
       "      <th>upper</th>\n",
       "      <td>207079.5</td>\n",
       "    </tr>\n",
       "  </tbody>\n",
       "</table>\n",
       "</div>"
      ],
      "text/plain": [
       "                                Income\n",
       "State Sex    Income Category          \n",
       "ID    Female low               19193.0\n",
       "             middle            60609.0\n",
       "             upper            316175.5\n",
       "      Male   low               20405.0\n",
       "             middle            74296.5\n",
       "             upper            313953.0\n",
       "OR    Female low               20203.0\n",
       "             middle            68690.0\n",
       "             upper            181826.0\n",
       "      Male   low               21213.0\n",
       "             middle            78791.0\n",
       "             upper            172735.0\n",
       "WA    Female low               21819.0\n",
       "             middle            70710.0\n",
       "             upper            222232.0\n",
       "      Male   low               24243.0\n",
       "             middle            77801.5\n",
       "             upper            207079.5"
      ]
     },
     "execution_count": 80,
     "metadata": {},
     "output_type": "execute_result"
    }
   ],
   "source": [
    "# Let's check median income for 2019, based on income groups, as grouped by state and gender \n",
    "# First we create a subframe with selected columns from nontrad_stud_2019 dataframe\n",
    "income_comparison_2019 = pd.DataFrame().assign(State = nontrad_stud_2019['State'], Sex = nontrad_stud_2019['Sex'], Income = nontrad_stud_2019['Total Income'])\n",
    "# Create a new column \"Income Category\" which buckets records based on income margins\n",
    "income_comparison_2019 ['Income Category'] = pd.cut(nontrad_stud_2019['Total Income'], bins = [0, 52200, 156600, 1000000], labels = ['low', 'middle', 'upper'])\n",
    "# Getting rid of NA values since we don't need them \n",
    "income_comparison_2019 = income_comparison_2019.dropna()\n",
    "# Calculate median income for each income category based on sex and state \n",
    "income_comparison_2019.groupby(['State','Sex', 'Income Category']).median()\n",
    "\n",
    "# Note that median is preferred since it doesn't take into account the outliers!\n"
   ]
  },
  {
   "cell_type": "code",
   "execution_count": 81,
   "metadata": {},
   "outputs": [
    {
     "data": {
      "text/html": [
       "<div>\n",
       "<style scoped>\n",
       "    .dataframe tbody tr th:only-of-type {\n",
       "        vertical-align: middle;\n",
       "    }\n",
       "\n",
       "    .dataframe tbody tr th {\n",
       "        vertical-align: top;\n",
       "    }\n",
       "\n",
       "    .dataframe thead th {\n",
       "        text-align: right;\n",
       "    }\n",
       "</style>\n",
       "<table border=\"1\" class=\"dataframe\">\n",
       "  <thead>\n",
       "    <tr style=\"text-align: right;\">\n",
       "      <th></th>\n",
       "      <th></th>\n",
       "      <th></th>\n",
       "      <th>Income</th>\n",
       "    </tr>\n",
       "    <tr>\n",
       "      <th>State</th>\n",
       "      <th>Sex</th>\n",
       "      <th>Income Category</th>\n",
       "      <th></th>\n",
       "    </tr>\n",
       "  </thead>\n",
       "  <tbody>\n",
       "    <tr>\n",
       "      <th rowspan=\"6\" valign=\"top\">ID</th>\n",
       "      <th rowspan=\"3\" valign=\"top\">Female</th>\n",
       "      <th>low</th>\n",
       "      <td>20324.0</td>\n",
       "    </tr>\n",
       "    <tr>\n",
       "      <th>middle</th>\n",
       "      <td>62894.5</td>\n",
       "    </tr>\n",
       "    <tr>\n",
       "      <th>upper</th>\n",
       "      <td>NaN</td>\n",
       "    </tr>\n",
       "    <tr>\n",
       "      <th rowspan=\"3\" valign=\"top\">Male</th>\n",
       "      <th>low</th>\n",
       "      <td>22135.0</td>\n",
       "    </tr>\n",
       "    <tr>\n",
       "      <th>middle</th>\n",
       "      <td>82504.5</td>\n",
       "    </tr>\n",
       "    <tr>\n",
       "      <th>upper</th>\n",
       "      <td>202035.0</td>\n",
       "    </tr>\n",
       "    <tr>\n",
       "      <th rowspan=\"6\" valign=\"top\">OR</th>\n",
       "      <th rowspan=\"3\" valign=\"top\">Female</th>\n",
       "      <th>low</th>\n",
       "      <td>20123.0</td>\n",
       "    </tr>\n",
       "    <tr>\n",
       "      <th>middle</th>\n",
       "      <td>70430.0</td>\n",
       "    </tr>\n",
       "    <tr>\n",
       "      <th>upper</th>\n",
       "      <td>229402.0</td>\n",
       "    </tr>\n",
       "    <tr>\n",
       "      <th rowspan=\"3\" valign=\"top\">Male</th>\n",
       "      <th>low</th>\n",
       "      <td>19620.0</td>\n",
       "    </tr>\n",
       "    <tr>\n",
       "      <th>middle</th>\n",
       "      <td>74706.5</td>\n",
       "    </tr>\n",
       "    <tr>\n",
       "      <th>upper</th>\n",
       "      <td>187646.5</td>\n",
       "    </tr>\n",
       "    <tr>\n",
       "      <th rowspan=\"6\" valign=\"top\">WA</th>\n",
       "      <th rowspan=\"3\" valign=\"top\">Female</th>\n",
       "      <th>low</th>\n",
       "      <td>21733.0</td>\n",
       "    </tr>\n",
       "    <tr>\n",
       "      <th>middle</th>\n",
       "      <td>72443.0</td>\n",
       "    </tr>\n",
       "    <tr>\n",
       "      <th>upper</th>\n",
       "      <td>201230.0</td>\n",
       "    </tr>\n",
       "    <tr>\n",
       "      <th rowspan=\"3\" valign=\"top\">Male</th>\n",
       "      <th>low</th>\n",
       "      <td>22135.0</td>\n",
       "    </tr>\n",
       "    <tr>\n",
       "      <th>middle</th>\n",
       "      <td>80291.0</td>\n",
       "    </tr>\n",
       "    <tr>\n",
       "      <th>upper</th>\n",
       "      <td>196702.5</td>\n",
       "    </tr>\n",
       "  </tbody>\n",
       "</table>\n",
       "</div>"
      ],
      "text/plain": [
       "                                Income\n",
       "State Sex    Income Category          \n",
       "ID    Female low               20324.0\n",
       "             middle            62894.5\n",
       "             upper                 NaN\n",
       "      Male   low               22135.0\n",
       "             middle            82504.5\n",
       "             upper            202035.0\n",
       "OR    Female low               20123.0\n",
       "             middle            70430.0\n",
       "             upper            229402.0\n",
       "      Male   low               19620.0\n",
       "             middle            74706.5\n",
       "             upper            187646.5\n",
       "WA    Female low               21733.0\n",
       "             middle            72443.0\n",
       "             upper            201230.0\n",
       "      Male   low               22135.0\n",
       "             middle            80291.0\n",
       "             upper            196702.5"
      ]
     },
     "execution_count": 81,
     "metadata": {},
     "output_type": "execute_result"
    }
   ],
   "source": [
    "# Performing the same steps for 2020 data\n",
    "income_comparison_2020 = pd.DataFrame().assign(State = nontrad_stud_2020['State'], Sex = nontrad_stud_2020['Sex'], Income = nontrad_stud_2020['Total Income'])\n",
    "income_comparison_2020 ['Income Category'] = pd.cut(nontrad_stud_2020['Total Income'], bins = [0, 52200, 156600, 1000000], labels = ['low', 'middle', 'upper'])\n",
    "income_comparison_2020 = income_comparison_2020.dropna()\n",
    "income_comparison_2020.groupby(['State','Sex', 'Income Category']).median()"
   ]
  },
  {
   "cell_type": "code",
   "execution_count": 124,
   "metadata": {},
   "outputs": [
    {
     "data": {
      "text/html": [
       "<div>\n",
       "<style scoped>\n",
       "    .dataframe tbody tr th:only-of-type {\n",
       "        vertical-align: middle;\n",
       "    }\n",
       "\n",
       "    .dataframe tbody tr th {\n",
       "        vertical-align: top;\n",
       "    }\n",
       "\n",
       "    .dataframe thead th {\n",
       "        text-align: right;\n",
       "    }\n",
       "</style>\n",
       "<table border=\"1\" class=\"dataframe\">\n",
       "  <thead>\n",
       "    <tr style=\"text-align: right;\">\n",
       "      <th></th>\n",
       "      <th></th>\n",
       "      <th>Layoff</th>\n",
       "    </tr>\n",
       "    <tr>\n",
       "      <th>State</th>\n",
       "      <th>Sex</th>\n",
       "      <th></th>\n",
       "    </tr>\n",
       "  </thead>\n",
       "  <tbody>\n",
       "    <tr>\n",
       "      <th rowspan=\"2\" valign=\"top\">ID</th>\n",
       "      <th>Female</th>\n",
       "      <td>9</td>\n",
       "    </tr>\n",
       "    <tr>\n",
       "      <th>Male</th>\n",
       "      <td>12</td>\n",
       "    </tr>\n",
       "    <tr>\n",
       "      <th rowspan=\"2\" valign=\"top\">OR</th>\n",
       "      <th>Female</th>\n",
       "      <td>30</td>\n",
       "    </tr>\n",
       "    <tr>\n",
       "      <th>Male</th>\n",
       "      <td>32</td>\n",
       "    </tr>\n",
       "    <tr>\n",
       "      <th rowspan=\"2\" valign=\"top\">WA</th>\n",
       "      <th>Female</th>\n",
       "      <td>72</td>\n",
       "    </tr>\n",
       "    <tr>\n",
       "      <th>Male</th>\n",
       "      <td>72</td>\n",
       "    </tr>\n",
       "  </tbody>\n",
       "</table>\n",
       "</div>"
      ],
      "text/plain": [
       "              Layoff\n",
       "State Sex           \n",
       "ID    Female       9\n",
       "      Male        12\n",
       "OR    Female      30\n",
       "      Male        32\n",
       "WA    Female      72\n",
       "      Male        72"
      ]
     },
     "execution_count": 124,
     "metadata": {},
     "output_type": "execute_result"
    }
   ],
   "source": [
    "# Checking reported number of people who were laid-off or actively seeking employment in 2019, as grouped by sex and state\n",
    "# Selecting required columns\n",
    "layoffs_2019 = pd.DataFrame().assign(State = nontrad_stud_2019['State'], Sex = nontrad_stud_2019['Sex'], Layoff = nontrad_stud_2019['Laid Off'], WorkAvail = nontrad_stud_2019['Looking for Work'])\n",
    "# Filtering out records where either being laid off or looking for work is reported as \"yes\"\n",
    "layoffs_2019 =  layoffs_2019.loc[(layoffs_2019['Layoff'] == 'Yes') | (layoffs_2019['WorkAvail'] == 'Yes')]\n",
    "# Combining two columns for easier calculation of the total number of records for both\n",
    "layoffs_2019['Layoff'] = layoffs_2019['Layoff'] + layoffs_2019['WorkAvail']\n",
    "# replacing all values with \"Yes\"\n",
    "layoffs_2019 = layoffs_2019.assign(Layoff = 'Yes')\n",
    "# removing 'WorkAvail' column since it is no longer needed \n",
    "layoffs_2019 = layoffs_2019.drop(['WorkAvail'], axis = 1)\n",
    "# displaying the grouped output\n",
    "layoffs_2019.groupby(['State', 'Sex']).count()\n"
   ]
  },
  {
   "cell_type": "code",
   "execution_count": 125,
   "metadata": {},
   "outputs": [
    {
     "data": {
      "text/html": [
       "<div>\n",
       "<style scoped>\n",
       "    .dataframe tbody tr th:only-of-type {\n",
       "        vertical-align: middle;\n",
       "    }\n",
       "\n",
       "    .dataframe tbody tr th {\n",
       "        vertical-align: top;\n",
       "    }\n",
       "\n",
       "    .dataframe thead th {\n",
       "        text-align: right;\n",
       "    }\n",
       "</style>\n",
       "<table border=\"1\" class=\"dataframe\">\n",
       "  <thead>\n",
       "    <tr style=\"text-align: right;\">\n",
       "      <th></th>\n",
       "      <th></th>\n",
       "      <th>Layoff</th>\n",
       "    </tr>\n",
       "    <tr>\n",
       "      <th>State</th>\n",
       "      <th>Sex</th>\n",
       "      <th></th>\n",
       "    </tr>\n",
       "  </thead>\n",
       "  <tbody>\n",
       "    <tr>\n",
       "      <th rowspan=\"2\" valign=\"top\">ID</th>\n",
       "      <th>Female</th>\n",
       "      <td>12</td>\n",
       "    </tr>\n",
       "    <tr>\n",
       "      <th>Male</th>\n",
       "      <td>13</td>\n",
       "    </tr>\n",
       "    <tr>\n",
       "      <th rowspan=\"2\" valign=\"top\">OR</th>\n",
       "      <th>Female</th>\n",
       "      <td>33</td>\n",
       "    </tr>\n",
       "    <tr>\n",
       "      <th>Male</th>\n",
       "      <td>28</td>\n",
       "    </tr>\n",
       "    <tr>\n",
       "      <th rowspan=\"2\" valign=\"top\">WA</th>\n",
       "      <th>Female</th>\n",
       "      <td>71</td>\n",
       "    </tr>\n",
       "    <tr>\n",
       "      <th>Male</th>\n",
       "      <td>64</td>\n",
       "    </tr>\n",
       "  </tbody>\n",
       "</table>\n",
       "</div>"
      ],
      "text/plain": [
       "              Layoff\n",
       "State Sex           \n",
       "ID    Female      12\n",
       "      Male        13\n",
       "OR    Female      33\n",
       "      Male        28\n",
       "WA    Female      71\n",
       "      Male        64"
      ]
     },
     "execution_count": 125,
     "metadata": {},
     "output_type": "execute_result"
    }
   ],
   "source": [
    "# Performing the same set of operations for 2020 report \n",
    "layoffs_2020 = pd.DataFrame().assign(State = nontrad_stud_2020['State'], Sex = nontrad_stud_2020['Sex'], Layoff = nontrad_stud_2020['Laid Off'], WorkAvail = nontrad_stud_2020['Looking for Work'])\n",
    "layoffs_2020 =  layoffs_2020.loc[(layoffs_2020['Layoff'] == 'Yes') | (layoffs_2020['WorkAvail'] == 'Yes')]\n",
    "layoffs_2020['Layoff'] = layoffs_2020['Layoff'] + layoffs_2020['WorkAvail']\n",
    "layoffs_2020 = layoffs_2020.assign(Layoff = 'Yes')\n",
    "layoffs_2020 = layoffs_2020.drop(['WorkAvail'], axis = 1)\n",
    "layoffs_2020.groupby(['State', 'Sex']).count()"
   ]
  },
  {
   "cell_type": "code",
   "execution_count": null,
   "metadata": {},
   "outputs": [],
   "source": []
  }
 ],
 "metadata": {
  "interpreter": {
   "hash": "0cbdb2da9dbe0d2dea10ff6d0781d52b5c29396ff67f0b41141e479dd37f1da4"
  },
  "kernelspec": {
   "display_name": "Python 3.8.8 ('base')",
   "language": "python",
   "name": "python3"
  },
  "language_info": {
   "codemirror_mode": {
    "name": "ipython",
    "version": 3
   },
   "file_extension": ".py",
   "mimetype": "text/x-python",
   "name": "python",
   "nbconvert_exporter": "python",
   "pygments_lexer": "ipython3",
   "version": "3.8.8"
  },
  "orig_nbformat": 4
 },
 "nbformat": 4,
 "nbformat_minor": 2
}
